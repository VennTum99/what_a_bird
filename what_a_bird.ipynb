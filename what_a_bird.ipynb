{
 "cells": [
  {
   "cell_type": "code",
   "execution_count": 21,
   "id": "fbee6d9a-495c-417f-ac68-3b56124e421e",
   "metadata": {},
   "outputs": [
    {
     "data": {
      "text/plain": [
       "\"\\n\\nFisrt, install the requirements for 'What a Bird!'\\n\\n\""
      ]
     },
     "execution_count": 21,
     "metadata": {},
     "output_type": "execute_result"
    }
   ],
   "source": [
    "'''\n",
    "\n",
    "This is main 'What a Bird' Model sequence!!\n",
    "\n",
    "Here, bird object detection through yolov4 and prediction of the detected image are performed through the ensembled model.\n",
    "\n",
    "The last part consists of parts that can measure the accuracy of each model as an extra.\n",
    "\n",
    "Fisrt, install the requirements for 'What a Bird!'\n",
    "\n",
    "'''"
   ]
  },
  {
   "cell_type": "code",
   "execution_count": 8,
   "id": "0be8b5c6-9206-4a6b-8d52-f70505a9685a",
   "metadata": {},
   "outputs": [
    {
     "name": "stdout",
     "output_type": "stream",
     "text": [
      "Defaulting to user installation because normal site-packages is not writeable\n",
      "Requirement already satisfied: opencv-python in /home/.local/lib/python3.6/site-packages (from -r requirements.txt (line 1)) (4.5.4.60)\n",
      "Requirement already satisfied: lxml in /home/.local/lib/python3.6/site-packages (from -r requirements.txt (line 2)) (4.7.1)\n",
      "Requirement already satisfied: tqdm in /home/.local/lib/python3.6/site-packages (from -r requirements.txt (line 3)) (4.62.3)\n",
      "Requirement already satisfied: tensorflow in /home/.local/lib/python3.6/site-packages (from -r requirements.txt (line 4)) (2.6.2)\n",
      "Requirement already satisfied: tensorflow-gpu in /home/.local/lib/python3.6/site-packages (from -r requirements.txt (line 5)) (2.6.2)\n",
      "Requirement already satisfied: absl-py in /home/.local/lib/python3.6/site-packages (from -r requirements.txt (line 6)) (0.15.0)\n",
      "Requirement already satisfied: easydict in /home/.local/lib/python3.6/site-packages (from -r requirements.txt (line 7)) (1.9)\n",
      "Requirement already satisfied: matplotlib in /usr/local/lib/python3.6/dist-packages (from -r requirements.txt (line 8)) (3.3.4)\n",
      "Requirement already satisfied: pillow in /usr/local/lib/python3.6/dist-packages (from -r requirements.txt (line 9)) (8.3.1)\n",
      "Requirement already satisfied: keras in /home/.local/lib/python3.6/site-packages (from -r requirements.txt (line 10)) (2.6.0)\n",
      "Requirement already satisfied: numpy in /home/.local/lib/python3.6/site-packages (from -r requirements.txt (line 11)) (1.19.5)\n",
      "Requirement already satisfied: tensorflow.addons in /home/.local/lib/python3.6/site-packages (from -r requirements.txt (line 12)) (0.14.0)\n",
      "Requirement already satisfied: vit_keras in /home/.local/lib/python3.6/site-packages (from -r requirements.txt (line 13)) (0.1.0)\n",
      "Requirement already satisfied: scikit-learn in /home/.local/lib/python3.6/site-packages (from -r requirements.txt (line 14)) (0.24.2)\n",
      "Requirement already satisfied: scikit-image in /home/.local/lib/python3.6/site-packages (from -r requirements.txt (line 15)) (0.17.2)\n",
      "Requirement already satisfied: google-pasta~=0.2 in /home/.local/lib/python3.6/site-packages (from tensorflow->-r requirements.txt (line 4)) (0.2.0)\n",
      "Requirement already satisfied: typing-extensions~=3.7.4 in /home/.local/lib/python3.6/site-packages (from tensorflow->-r requirements.txt (line 4)) (3.7.4.3)\n",
      "Requirement already satisfied: gast==0.4.0 in /home/.local/lib/python3.6/site-packages (from tensorflow->-r requirements.txt (line 4)) (0.4.0)\n",
      "Requirement already satisfied: flatbuffers~=1.12.0 in /home/.local/lib/python3.6/site-packages (from tensorflow->-r requirements.txt (line 4)) (1.12)\n",
      "Requirement already satisfied: keras-preprocessing~=1.1.2 in /home/.local/lib/python3.6/site-packages (from tensorflow->-r requirements.txt (line 4)) (1.1.2)\n",
      "Requirement already satisfied: astunparse~=1.6.3 in /home/.local/lib/python3.6/site-packages (from tensorflow->-r requirements.txt (line 4)) (1.6.3)\n",
      "Requirement already satisfied: protobuf>=3.9.2 in /home/.local/lib/python3.6/site-packages (from tensorflow->-r requirements.txt (line 4)) (3.19.0)\n",
      "Requirement already satisfied: opt-einsum~=3.3.0 in /home/.local/lib/python3.6/site-packages (from tensorflow->-r requirements.txt (line 4)) (3.3.0)\n",
      "Requirement already satisfied: wheel~=0.35 in /home/.local/lib/python3.6/site-packages (from tensorflow->-r requirements.txt (line 4)) (0.37.0)\n",
      "Requirement already satisfied: tensorboard<2.7,>=2.6.0 in /home/.local/lib/python3.6/site-packages (from tensorflow->-r requirements.txt (line 4)) (2.6.0)\n",
      "Requirement already satisfied: grpcio<2.0,>=1.37.0 in /home/.local/lib/python3.6/site-packages (from tensorflow->-r requirements.txt (line 4)) (1.42.0)\n",
      "Requirement already satisfied: wrapt~=1.12.1 in /home/.local/lib/python3.6/site-packages (from tensorflow->-r requirements.txt (line 4)) (1.12.1)\n",
      "Requirement already satisfied: six~=1.15.0 in /home/.local/lib/python3.6/site-packages (from tensorflow->-r requirements.txt (line 4)) (1.15.0)\n",
      "Requirement already satisfied: clang~=5.0 in /home/.local/lib/python3.6/site-packages (from tensorflow->-r requirements.txt (line 4)) (5.0)\n",
      "Requirement already satisfied: termcolor~=1.1.0 in /usr/local/lib/python3.6/dist-packages (from tensorflow->-r requirements.txt (line 4)) (1.1.0)\n",
      "Requirement already satisfied: h5py~=3.1.0 in /home/.local/lib/python3.6/site-packages (from tensorflow->-r requirements.txt (line 4)) (3.1.0)\n",
      "Requirement already satisfied: tensorflow-estimator<2.7,>=2.6.0 in /home/.local/lib/python3.6/site-packages (from tensorflow->-r requirements.txt (line 4)) (2.6.0)\n",
      "Requirement already satisfied: cycler>=0.10 in /usr/local/lib/python3.6/dist-packages (from matplotlib->-r requirements.txt (line 8)) (0.10.0)\n",
      "Requirement already satisfied: python-dateutil>=2.1 in /usr/local/lib/python3.6/dist-packages (from matplotlib->-r requirements.txt (line 8)) (2.8.2)\n",
      "Requirement already satisfied: pyparsing!=2.0.4,!=2.1.2,!=2.1.6,>=2.0.3 in /usr/local/lib/python3.6/dist-packages (from matplotlib->-r requirements.txt (line 8)) (2.4.7)\n",
      "Requirement already satisfied: kiwisolver>=1.0.1 in /usr/local/lib/python3.6/dist-packages (from matplotlib->-r requirements.txt (line 8)) (1.3.1)\n",
      "Requirement already satisfied: typeguard>=2.7 in /home/.local/lib/python3.6/site-packages (from tensorflow.addons->-r requirements.txt (line 12)) (2.13.2)\n",
      "Requirement already satisfied: scipy in /home/.local/lib/python3.6/site-packages (from vit_keras->-r requirements.txt (line 13)) (1.4.1)\n",
      "Requirement already satisfied: validators in /home/.local/lib/python3.6/site-packages (from vit_keras->-r requirements.txt (line 13)) (0.18.2)\n",
      "Requirement already satisfied: joblib>=0.11 in /home/.local/lib/python3.6/site-packages (from scikit-learn->-r requirements.txt (line 14)) (1.0.1)\n",
      "Requirement already satisfied: threadpoolctl>=2.0.0 in /home/.local/lib/python3.6/site-packages (from scikit-learn->-r requirements.txt (line 14)) (2.2.0)\n",
      "Requirement already satisfied: imageio>=2.3.0 in /home/.local/lib/python3.6/site-packages (from scikit-image->-r requirements.txt (line 15)) (2.9.0)\n",
      "Requirement already satisfied: PyWavelets>=1.1.1 in /home/.local/lib/python3.6/site-packages (from scikit-image->-r requirements.txt (line 15)) (1.1.1)\n",
      "Requirement already satisfied: networkx>=2.0 in /home/.local/lib/python3.6/site-packages (from scikit-image->-r requirements.txt (line 15)) (2.5.1)\n",
      "Requirement already satisfied: tifffile>=2019.7.26 in /home/.local/lib/python3.6/site-packages (from scikit-image->-r requirements.txt (line 15)) (2020.9.3)\n",
      "Requirement already satisfied: cached-property in /home/.local/lib/python3.6/site-packages (from h5py~=3.1.0->tensorflow->-r requirements.txt (line 4)) (1.5.2)\n",
      "Requirement already satisfied: decorator<5,>=4.3 in /home/.local/lib/python3.6/site-packages (from networkx>=2.0->scikit-image->-r requirements.txt (line 15)) (4.4.2)\n",
      "Requirement already satisfied: google-auth-oauthlib<0.5,>=0.4.1 in /home/.local/lib/python3.6/site-packages (from tensorboard<2.7,>=2.6.0->tensorflow->-r requirements.txt (line 4)) (0.4.6)\n",
      "Requirement already satisfied: markdown>=2.6.8 in /usr/local/lib/python3.6/dist-packages (from tensorboard<2.7,>=2.6.0->tensorflow->-r requirements.txt (line 4)) (3.1.1)\n",
      "Requirement already satisfied: tensorboard-plugin-wit>=1.6.0 in /home/.local/lib/python3.6/site-packages (from tensorboard<2.7,>=2.6.0->tensorflow->-r requirements.txt (line 4)) (1.8.0)\n",
      "Requirement already satisfied: tensorboard-data-server<0.7.0,>=0.6.0 in /home/.local/lib/python3.6/site-packages (from tensorboard<2.7,>=2.6.0->tensorflow->-r requirements.txt (line 4)) (0.6.1)\n",
      "Requirement already satisfied: setuptools>=41.0.0 in /usr/local/lib/python3.6/dist-packages (from tensorboard<2.7,>=2.6.0->tensorflow->-r requirements.txt (line 4)) (41.2.0)\n",
      "Requirement already satisfied: werkzeug>=0.11.15 in /usr/local/lib/python3.6/dist-packages (from tensorboard<2.7,>=2.6.0->tensorflow->-r requirements.txt (line 4)) (0.16.0)\n",
      "Requirement already satisfied: google-auth<2,>=1.6.3 in /home/.local/lib/python3.6/site-packages (from tensorboard<2.7,>=2.6.0->tensorflow->-r requirements.txt (line 4)) (1.35.0)\n",
      "Requirement already satisfied: requests<3,>=2.21.0 in /usr/local/lib/python3.6/dist-packages (from tensorboard<2.7,>=2.6.0->tensorflow->-r requirements.txt (line 4)) (2.26.0)\n",
      "Requirement already satisfied: rsa<5,>=3.1.4 in /home/.local/lib/python3.6/site-packages (from google-auth<2,>=1.6.3->tensorboard<2.7,>=2.6.0->tensorflow->-r requirements.txt (line 4)) (4.8)\n",
      "Requirement already satisfied: pyasn1-modules>=0.2.1 in /home/.local/lib/python3.6/site-packages (from google-auth<2,>=1.6.3->tensorboard<2.7,>=2.6.0->tensorflow->-r requirements.txt (line 4)) (0.2.8)\n",
      "Requirement already satisfied: cachetools<5.0,>=2.0.0 in /home/.local/lib/python3.6/site-packages (from google-auth<2,>=1.6.3->tensorboard<2.7,>=2.6.0->tensorflow->-r requirements.txt (line 4)) (4.2.4)\n",
      "Requirement already satisfied: requests-oauthlib>=0.7.0 in /home/.local/lib/python3.6/site-packages (from google-auth-oauthlib<0.5,>=0.4.1->tensorboard<2.7,>=2.6.0->tensorflow->-r requirements.txt (line 4)) (1.3.0)\n",
      "Requirement already satisfied: urllib3<1.27,>=1.21.1 in /usr/local/lib/python3.6/dist-packages (from requests<3,>=2.21.0->tensorboard<2.7,>=2.6.0->tensorflow->-r requirements.txt (line 4)) (1.26.6)\n",
      "Requirement already satisfied: certifi>=2017.4.17 in /usr/local/lib/python3.6/dist-packages (from requests<3,>=2.21.0->tensorboard<2.7,>=2.6.0->tensorflow->-r requirements.txt (line 4)) (2021.5.30)\n",
      "Requirement already satisfied: idna<4,>=2.5 in /home/.local/lib/python3.6/site-packages (from requests<3,>=2.21.0->tensorboard<2.7,>=2.6.0->tensorflow->-r requirements.txt (line 4)) (2.10)\n",
      "Requirement already satisfied: charset-normalizer~=2.0.0 in /usr/local/lib/python3.6/dist-packages (from requests<3,>=2.21.0->tensorboard<2.7,>=2.6.0->tensorflow->-r requirements.txt (line 4)) (2.0.4)\n",
      "Requirement already satisfied: pyasn1<0.5.0,>=0.4.6 in /home/.local/lib/python3.6/site-packages (from pyasn1-modules>=0.2.1->google-auth<2,>=1.6.3->tensorboard<2.7,>=2.6.0->tensorflow->-r requirements.txt (line 4)) (0.4.8)\n",
      "Requirement already satisfied: oauthlib>=3.0.0 in /home/.local/lib/python3.6/site-packages (from requests-oauthlib>=0.7.0->google-auth-oauthlib<0.5,>=0.4.1->tensorboard<2.7,>=2.6.0->tensorflow->-r requirements.txt (line 4)) (3.1.1)\n"
     ]
    }
   ],
   "source": [
    "!pip install -r requirements.txt"
   ]
  },
  {
   "cell_type": "code",
   "execution_count": null,
   "id": "ede49aae-d3d9-43a8-afc2-0042cc4de927",
   "metadata": {},
   "outputs": [],
   "source": [
    "'''\n",
    "\n",
    "Please cd your directory the 'What a Bird/yolov4'\n",
    "\n",
    "ex) cd \"/home/what_a_bird/yolov4\"\n",
    "\n",
    "'''"
   ]
  },
  {
   "cell_type": "code",
   "execution_count": 10,
   "id": "99f0e681-cf51-47e4-8980-36ec0099cd66",
   "metadata": {},
   "outputs": [
    {
     "name": "stdout",
     "output_type": "stream",
     "text": [
      "/home/project/yolov4\n"
     ]
    }
   ],
   "source": [
    "cd \"/home/project/yolov4\""
   ]
  },
  {
   "cell_type": "code",
   "execution_count": null,
   "id": "262c9380-8e25-430e-a8e2-382542cbc407",
   "metadata": {},
   "outputs": [],
   "source": [
    "'''\n",
    "\n",
    "Detection Part!\n",
    "\n",
    "Using yolov4 with the code, find the bird object in the raw image and save it.\n",
    "\n",
    "Put your own raw image into './yolov4/bird_data/raw_image/'\n",
    "\n",
    "This part automatically loads and uses yolov4's pretrained data.\n",
    "\n",
    "and the detected images will save into './yolov4/bird_data/detect_image/bird/'\n",
    "\n",
    "and the whole image with bound box is on './yolov4/bird_data/result_image/result.png'\n",
    "\n",
    "In the code below, only change the --image part to your image.\n",
    "\n",
    "ex) !python detect.py --weights ./checkpoints/yolov4-416 --size 416 --model yolov4 --image ./bird_data/raw_image/[Your Own Image File]\n",
    "\n",
    "'''"
   ]
  },
  {
   "cell_type": "code",
   "execution_count": 12,
   "id": "1d22f5a2-49d0-4468-b421-b3fa3cfb7ddb",
   "metadata": {},
   "outputs": [
    {
     "name": "stdout",
     "output_type": "stream",
     "text": [
      "2021-12-19 02:23:21.846843: W tensorflow/stream_executor/platform/default/dso_loader.cc:64] Could not load dynamic library 'libcudart.so.11.0'; dlerror: libcudart.so.11.0: cannot open shared object file: No such file or directory\n",
      "2021-12-19 02:23:21.846876: I tensorflow/stream_executor/cuda/cudart_stub.cc:29] Ignore above cudart dlerror if you do not have a GPU set up on your machine.\n",
      "2021-12-19 02:23:23.457254: W tensorflow/stream_executor/platform/default/dso_loader.cc:64] Could not load dynamic library 'libcudart.so.11.0'; dlerror: libcudart.so.11.0: cannot open shared object file: No such file or directory\n",
      "2021-12-19 02:23:23.457359: W tensorflow/stream_executor/platform/default/dso_loader.cc:64] Could not load dynamic library 'libcublas.so.11'; dlerror: libcublas.so.11: cannot open shared object file: No such file or directory\n",
      "2021-12-19 02:23:23.457430: W tensorflow/stream_executor/platform/default/dso_loader.cc:64] Could not load dynamic library 'libcublasLt.so.11'; dlerror: libcublasLt.so.11: cannot open shared object file: No such file or directory\n",
      "2021-12-19 02:23:23.457498: W tensorflow/stream_executor/platform/default/dso_loader.cc:64] Could not load dynamic library 'libcufft.so.10'; dlerror: libcufft.so.10: cannot open shared object file: No such file or directory\n",
      "2021-12-19 02:23:23.457562: W tensorflow/stream_executor/platform/default/dso_loader.cc:64] Could not load dynamic library 'libcurand.so.10'; dlerror: libcurand.so.10: cannot open shared object file: No such file or directory\n",
      "2021-12-19 02:23:23.457630: W tensorflow/stream_executor/platform/default/dso_loader.cc:64] Could not load dynamic library 'libcusolver.so.11'; dlerror: libcusolver.so.11: cannot open shared object file: No such file or directory\n",
      "2021-12-19 02:23:23.457694: W tensorflow/stream_executor/platform/default/dso_loader.cc:64] Could not load dynamic library 'libcusparse.so.11'; dlerror: libcusparse.so.11: cannot open shared object file: No such file or directory\n",
      "2021-12-19 02:23:23.457762: W tensorflow/stream_executor/platform/default/dso_loader.cc:64] Could not load dynamic library 'libcudnn.so.8'; dlerror: libcudnn.so.8: cannot open shared object file: No such file or directory\n",
      "2021-12-19 02:23:23.457778: W tensorflow/core/common_runtime/gpu/gpu_device.cc:1835] Cannot dlopen some GPU libraries. Please make sure the missing libraries mentioned above are installed properly if you would like to use GPU. Follow the guide at https://www.tensorflow.org/install/gpu for how to download and setup the required libraries for your platform.\n",
      "Skipping registering GPU devices...\n",
      "2021-12-19 02:23:23.734691: I tensorflow/core/platform/cpu_feature_guard.cc:142] This TensorFlow binary is optimized with oneAPI Deep Neural Network Library (oneDNN) to use the following CPU instructions in performance-critical operations:  AVX2 FMA\n",
      "To enable them in other operations, rebuild TensorFlow with the appropriate compiler flags.\n",
      "2021-12-19 02:23:23.747195: W tensorflow/core/common_runtime/gpu/gpu_device.cc:1835] Cannot dlopen some GPU libraries. Please make sure the missing libraries mentioned above are installed properly if you would like to use GPU. Follow the guide at https://www.tensorflow.org/install/gpu for how to download and setup the required libraries for your platform.\n",
      "Skipping registering GPU devices...\n",
      "2021-12-19 02:23:39.756310: I tensorflow/compiler/mlir/mlir_graph_optimization_pass.cc:185] None of the MLIR Optimization Passes are enabled (registered 2)\n",
      "./bird_data/detect_image/bird/bird1.jpg\n",
      "./bird_data/detect_image/bird/bird2.jpg\n",
      "<PIL.Image.Image image mode=RGB size=800x532 at 0x7F15EC0ADEF0>\n"
     ]
    }
   ],
   "source": [
    "!python detect.py --weights ./checkpoints/yolov4-416 --size 416 --model yolov4 --image ./bird_data/raw_image/origin_albatross.jpg"
   ]
  },
  {
   "cell_type": "code",
   "execution_count": null,
   "id": "08f71b55-a2c0-4bda-b719-67842893e8f7",
   "metadata": {},
   "outputs": [],
   "source": [
    "'''\n",
    "\n",
    "Please cd your directory the '/What a Bird/'\n",
    "\n",
    "ex) cd \"/home/what_a_bird/\"\n",
    "\n",
    "'''"
   ]
  },
  {
   "cell_type": "code",
   "execution_count": 14,
   "id": "2454016d-fb74-458a-9386-f2a70be50287",
   "metadata": {},
   "outputs": [
    {
     "name": "stdout",
     "output_type": "stream",
     "text": [
      "/home/project\n"
     ]
    }
   ],
   "source": [
    "cd \"/home/project/\""
   ]
  },
  {
   "cell_type": "code",
   "execution_count": null,
   "id": "7c1f89b2-29c6-454a-9d71-0647544e3034",
   "metadata": {},
   "outputs": [],
   "source": [
    "'''\n",
    "\n",
    "Bird Classification Part!\n",
    "\n",
    "Through ensembled_model.py, the bird images in the detect_image are predicted through the ensembled model of EfficientNet and VisionTransformer.\n",
    "\n",
    "The code also includes OOD Detection, which outputs Not in DataSet as a label for an object that is not a labeled bird.\n",
    "\n",
    "Through this, image including label and top-3 candidate is saved in './yolov4/bird_data/result_image/'.\n",
    "\n",
    "'''"
   ]
  },
  {
   "cell_type": "code",
   "execution_count": 17,
   "id": "2954cb9a-73b5-4d61-9ae0-8c77e145f8f9",
   "metadata": {},
   "outputs": [
    {
     "name": "stdout",
     "output_type": "stream",
     "text": [
      "2021-12-19 02:39:08.743019: W tensorflow/stream_executor/platform/default/dso_loader.cc:64] Could not load dynamic library 'libcudart.so.11.0'; dlerror: libcudart.so.11.0: cannot open shared object file: No such file or directory\n",
      "2021-12-19 02:39:08.743056: I tensorflow/stream_executor/cuda/cudart_stub.cc:29] Ignore above cudart dlerror if you do not have a GPU set up on your machine.\n",
      "2021-12-19 02:39:11.464116: W tensorflow/stream_executor/platform/default/dso_loader.cc:64] Could not load dynamic library 'libcudart.so.11.0'; dlerror: libcudart.so.11.0: cannot open shared object file: No such file or directory; LD_LIBRARY_PATH: /home/.local/lib/python3.6/site-packages/cv2/../../lib64:\n",
      "2021-12-19 02:39:11.464241: W tensorflow/stream_executor/platform/default/dso_loader.cc:64] Could not load dynamic library 'libcublas.so.11'; dlerror: libcublas.so.11: cannot open shared object file: No such file or directory; LD_LIBRARY_PATH: /home/.local/lib/python3.6/site-packages/cv2/../../lib64:\n",
      "2021-12-19 02:39:11.464328: W tensorflow/stream_executor/platform/default/dso_loader.cc:64] Could not load dynamic library 'libcublasLt.so.11'; dlerror: libcublasLt.so.11: cannot open shared object file: No such file or directory; LD_LIBRARY_PATH: /home/.local/lib/python3.6/site-packages/cv2/../../lib64:\n",
      "2021-12-19 02:39:11.464411: W tensorflow/stream_executor/platform/default/dso_loader.cc:64] Could not load dynamic library 'libcufft.so.10'; dlerror: libcufft.so.10: cannot open shared object file: No such file or directory; LD_LIBRARY_PATH: /home/.local/lib/python3.6/site-packages/cv2/../../lib64:\n",
      "2021-12-19 02:39:11.464508: W tensorflow/stream_executor/platform/default/dso_loader.cc:64] Could not load dynamic library 'libcurand.so.10'; dlerror: libcurand.so.10: cannot open shared object file: No such file or directory; LD_LIBRARY_PATH: /home/.local/lib/python3.6/site-packages/cv2/../../lib64:\n",
      "2021-12-19 02:39:11.464586: W tensorflow/stream_executor/platform/default/dso_loader.cc:64] Could not load dynamic library 'libcusolver.so.11'; dlerror: libcusolver.so.11: cannot open shared object file: No such file or directory; LD_LIBRARY_PATH: /home/.local/lib/python3.6/site-packages/cv2/../../lib64:\n",
      "2021-12-19 02:39:11.464691: W tensorflow/stream_executor/platform/default/dso_loader.cc:64] Could not load dynamic library 'libcusparse.so.11'; dlerror: libcusparse.so.11: cannot open shared object file: No such file or directory; LD_LIBRARY_PATH: /home/.local/lib/python3.6/site-packages/cv2/../../lib64:\n",
      "2021-12-19 02:39:11.464775: W tensorflow/stream_executor/platform/default/dso_loader.cc:64] Could not load dynamic library 'libcudnn.so.8'; dlerror: libcudnn.so.8: cannot open shared object file: No such file or directory; LD_LIBRARY_PATH: /home/.local/lib/python3.6/site-packages/cv2/../../lib64:\n",
      "2021-12-19 02:39:11.464792: W tensorflow/core/common_runtime/gpu/gpu_device.cc:1835] Cannot dlopen some GPU libraries. Please make sure the missing libraries mentioned above are installed properly if you would like to use GPU. Follow the guide at https://www.tensorflow.org/install/gpu for how to download and setup the required libraries for your platform.\n",
      "Skipping registering GPU devices...\n",
      "2021-12-19 02:39:11.465053: I tensorflow/core/platform/cpu_feature_guard.cc:142] This TensorFlow binary is optimized with oneAPI Deep Neural Network Library (oneDNN) to use the following CPU instructions in performance-critical operations:  AVX2 FMA\n",
      "To enable them in other operations, rebuild TensorFlow with the appropriate compiler flags.\n",
      "/home/.local/lib/python3.6/site-packages/vit_keras/utils.py:83: UserWarning: Resizing position embeddings from 12, 12 to 7, 7\n",
      "  UserWarning,\n",
      "Found 1625 files belonging to 325 classes.\n",
      "Found 8 files belonging to 2 classes.\n",
      "2021-12-19 02:39:46.592626: I tensorflow/compiler/mlir/mlir_graph_optimization_pass.cc:185] None of the MLIR Optimization Passes are enabled (registered 2)\n",
      "ensembled_model.py:115: MatplotlibDeprecationWarning: Adding an axes using the same arguments as a previous axes currently reuses the earlier instance.  In a future version, a new instance will always be created and returned.  Meanwhile, this warning can be suppressed, and the future behavior ensured, by passing a unique label to each axes instance.\n",
      "  plt.subplot(2, 2, j + 1)\n"
     ]
    }
   ],
   "source": [
    "!python ensembled_model.py"
   ]
  },
  {
   "cell_type": "code",
   "execution_count": null,
   "id": "b44e2e6b-d9a7-4e15-8298-f988c9c701c6",
   "metadata": {},
   "outputs": [],
   "source": [
    "'''\n",
    "\n",
    "Model Accuracy Check Part!\n",
    "\n",
    "The What a Bird model works through the codes above.\n",
    "\n",
    "The code below evaluates the performance of ViT, EfficientNet, and Ensembled Model.\n",
    "\n",
    "When executed, the Accuracy of each model is displayed.\n",
    "\n",
    "Here is the result of running it:\n",
    "\n",
    "Final ViT Accuracy: 0.9864615201950073\n",
    "Final Efficient Net Accuracy: 0.984000027179718\n",
    "Final Ensembled Model Accuracy: 0.9889230769230769\n",
    "\n",
    "So, Final Version is more accurate 0.0025 = 0.25%.\n",
    "\n",
    "'''"
   ]
  },
  {
   "cell_type": "code",
   "execution_count": 20,
   "id": "4fc82bb8-d38d-456f-897d-6a8023e667d6",
   "metadata": {},
   "outputs": [
    {
     "name": "stdout",
     "output_type": "stream",
     "text": [
      "2021-12-19 02:55:37.219801: W tensorflow/stream_executor/platform/default/dso_loader.cc:64] Could not load dynamic library 'libcudart.so.11.0'; dlerror: libcudart.so.11.0: cannot open shared object file: No such file or directory\n",
      "2021-12-19 02:55:37.219836: I tensorflow/stream_executor/cuda/cudart_stub.cc:29] Ignore above cudart dlerror if you do not have a GPU set up on your machine.\n",
      "2021-12-19 02:55:40.236616: W tensorflow/stream_executor/platform/default/dso_loader.cc:64] Could not load dynamic library 'libcudart.so.11.0'; dlerror: libcudart.so.11.0: cannot open shared object file: No such file or directory; LD_LIBRARY_PATH: /home/.local/lib/python3.6/site-packages/cv2/../../lib64:\n",
      "2021-12-19 02:55:40.236748: W tensorflow/stream_executor/platform/default/dso_loader.cc:64] Could not load dynamic library 'libcublas.so.11'; dlerror: libcublas.so.11: cannot open shared object file: No such file or directory; LD_LIBRARY_PATH: /home/.local/lib/python3.6/site-packages/cv2/../../lib64:\n",
      "2021-12-19 02:55:40.236826: W tensorflow/stream_executor/platform/default/dso_loader.cc:64] Could not load dynamic library 'libcublasLt.so.11'; dlerror: libcublasLt.so.11: cannot open shared object file: No such file or directory; LD_LIBRARY_PATH: /home/.local/lib/python3.6/site-packages/cv2/../../lib64:\n",
      "2021-12-19 02:55:40.236898: W tensorflow/stream_executor/platform/default/dso_loader.cc:64] Could not load dynamic library 'libcufft.so.10'; dlerror: libcufft.so.10: cannot open shared object file: No such file or directory; LD_LIBRARY_PATH: /home/.local/lib/python3.6/site-packages/cv2/../../lib64:\n",
      "2021-12-19 02:55:40.236970: W tensorflow/stream_executor/platform/default/dso_loader.cc:64] Could not load dynamic library 'libcurand.so.10'; dlerror: libcurand.so.10: cannot open shared object file: No such file or directory; LD_LIBRARY_PATH: /home/.local/lib/python3.6/site-packages/cv2/../../lib64:\n",
      "2021-12-19 02:55:40.237043: W tensorflow/stream_executor/platform/default/dso_loader.cc:64] Could not load dynamic library 'libcusolver.so.11'; dlerror: libcusolver.so.11: cannot open shared object file: No such file or directory; LD_LIBRARY_PATH: /home/.local/lib/python3.6/site-packages/cv2/../../lib64:\n",
      "2021-12-19 02:55:40.237116: W tensorflow/stream_executor/platform/default/dso_loader.cc:64] Could not load dynamic library 'libcusparse.so.11'; dlerror: libcusparse.so.11: cannot open shared object file: No such file or directory; LD_LIBRARY_PATH: /home/.local/lib/python3.6/site-packages/cv2/../../lib64:\n",
      "2021-12-19 02:55:40.237191: W tensorflow/stream_executor/platform/default/dso_loader.cc:64] Could not load dynamic library 'libcudnn.so.8'; dlerror: libcudnn.so.8: cannot open shared object file: No such file or directory; LD_LIBRARY_PATH: /home/.local/lib/python3.6/site-packages/cv2/../../lib64:\n",
      "2021-12-19 02:55:40.237210: W tensorflow/core/common_runtime/gpu/gpu_device.cc:1835] Cannot dlopen some GPU libraries. Please make sure the missing libraries mentioned above are installed properly if you would like to use GPU. Follow the guide at https://www.tensorflow.org/install/gpu for how to download and setup the required libraries for your platform.\n",
      "Skipping registering GPU devices...\n",
      "2021-12-19 02:55:40.237439: I tensorflow/core/platform/cpu_feature_guard.cc:142] This TensorFlow binary is optimized with oneAPI Deep Neural Network Library (oneDNN) to use the following CPU instructions in performance-critical operations:  AVX2 FMA\n",
      "To enable them in other operations, rebuild TensorFlow with the appropriate compiler flags.\n",
      "/home/.local/lib/python3.6/site-packages/vit_keras/utils.py:83: UserWarning: Resizing position embeddings from 12, 12 to 7, 7\n",
      "  UserWarning,\n",
      "Found 1625 files belonging to 325 classes.\n",
      "Found 1625 images belonging to 325 classes.\n",
      "Vision Transformer Test Accuracy\n",
      "2021-12-19 02:56:14.825186: I tensorflow/compiler/mlir/mlir_graph_optimization_pass.cc:185] None of the MLIR Optimization Passes are enabled (registered 2)\n",
      "51/51 [==============================] - 102s 2s/step - loss: 0.0665 - accuracy: 0.9865\n",
      "Final ViT Accuracy : 0.9864615201950073\n",
      "Efficient Net Test Accuracy\n",
      "51/51 [==============================] - 65s 1s/step - loss: 0.0528 - accuracy: 0.9840\n",
      "Final Efficient Net Accuracy : 0.984000027179718\n",
      "Ensembled Model Test Accuracy\n",
      "0th Batch Test Accuracy : 0.9375\n",
      "1th Batch Test Accuracy : 0.953125\n",
      "2th Batch Test Accuracy : 0.96875\n",
      "3th Batch Test Accuracy : 0.96875\n",
      "4th Batch Test Accuracy : 0.975\n",
      "5th Batch Test Accuracy : 0.9791666666666666\n",
      "6th Batch Test Accuracy : 0.9821428571428571\n",
      "7th Batch Test Accuracy : 0.98046875\n",
      "8th Batch Test Accuracy : 0.9826388888888888\n",
      "9th Batch Test Accuracy : 0.98125\n",
      "10th Batch Test Accuracy : 0.9829545454545454\n",
      "11th Batch Test Accuracy : 0.984375\n",
      "12th Batch Test Accuracy : 0.9831730769230769\n",
      "13th Batch Test Accuracy : 0.984375\n",
      "14th Batch Test Accuracy : 0.9854166666666667\n",
      "15th Batch Test Accuracy : 0.986328125\n",
      "16th Batch Test Accuracy : 0.9852941176470589\n",
      "17th Batch Test Accuracy : 0.9861111111111112\n",
      "18th Batch Test Accuracy : 0.9851973684210527\n",
      "19th Batch Test Accuracy : 0.9859375\n",
      "20th Batch Test Accuracy : 0.9866071428571429\n",
      "21th Batch Test Accuracy : 0.9872159090909091\n",
      "22th Batch Test Accuracy : 0.9877717391304348\n",
      "23th Batch Test Accuracy : 0.98828125\n",
      "24th Batch Test Accuracy : 0.98875\n",
      "25th Batch Test Accuracy : 0.9879807692307693\n",
      "26th Batch Test Accuracy : 0.9884259259259259\n",
      "27th Batch Test Accuracy : 0.9877232142857143\n",
      "28th Batch Test Accuracy : 0.9870689655172413\n",
      "29th Batch Test Accuracy : 0.9875\n",
      "30th Batch Test Accuracy : 0.9879032258064516\n",
      "31th Batch Test Accuracy : 0.98828125\n",
      "32th Batch Test Accuracy : 0.9886363636363636\n",
      "33th Batch Test Accuracy : 0.9889705882352942\n",
      "34th Batch Test Accuracy : 0.9883928571428572\n",
      "35th Batch Test Accuracy : 0.9887152777777778\n",
      "36th Batch Test Accuracy : 0.9890202702702703\n",
      "37th Batch Test Accuracy : 0.9884868421052632\n",
      "38th Batch Test Accuracy : 0.9887820512820513\n",
      "39th Batch Test Accuracy : 0.98828125\n",
      "40th Batch Test Accuracy : 0.9885670731707317\n",
      "41th Batch Test Accuracy : 0.9888392857142857\n",
      "42th Batch Test Accuracy : 0.9890988372093024\n",
      "43th Batch Test Accuracy : 0.9893465909090909\n",
      "44th Batch Test Accuracy : 0.9895833333333334\n",
      "45th Batch Test Accuracy : 0.9898097826086957\n",
      "46th Batch Test Accuracy : 0.9900265957446809\n",
      "47th Batch Test Accuracy : 0.990234375\n",
      "48th Batch Test Accuracy : 0.9897959183673469\n",
      "49th Batch Test Accuracy : 0.99\n",
      "50th Batch Test Accuracy : 0.9889230769230769\n"
     ]
    }
   ],
   "source": [
    "!python model_accuracy_test.py"
   ]
  }
 ],
 "metadata": {
  "kernelspec": {
   "display_name": "Python 3",
   "language": "python",
   "name": "python3"
  },
  "language_info": {
   "codemirror_mode": {
    "name": "ipython",
    "version": 3
   },
   "file_extension": ".py",
   "mimetype": "text/x-python",
   "name": "python",
   "nbconvert_exporter": "python",
   "pygments_lexer": "ipython3",
   "version": "3.6.8"
  }
 },
 "nbformat": 4,
 "nbformat_minor": 5
}
