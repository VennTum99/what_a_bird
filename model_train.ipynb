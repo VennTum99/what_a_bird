{
 "cells": [
  {
   "cell_type": "code",
   "execution_count": null,
   "id": "8ef98163-54dc-4ee1-9c74-a898d5d475ee",
   "metadata": {},
   "outputs": [],
   "source": [
    "'''\n",
    "\n",
    "Model Train Part!\n",
    "\n",
    "This part is the code to train and save the actual ViT, EfficientNet model.\n",
    "\n",
    "Please cd your directory the 'What a Bird'\n",
    "\n",
    "ex) cd \"/home/what_a_bird\"\n",
    "\n",
    "'''"
   ]
  },
  {
   "cell_type": "code",
   "execution_count": 1,
   "id": "dd00dffd-0ba1-48ed-a17b-0fcf957404e6",
   "metadata": {},
   "outputs": [
    {
     "name": "stdout",
     "output_type": "stream",
     "text": [
      "/home/project\n"
     ]
    }
   ],
   "source": [
    "cd \"/home/project/\""
   ]
  },
  {
   "cell_type": "code",
   "execution_count": null,
   "id": "1179ac09-15ef-4692-a34b-93f5618b567b",
   "metadata": {},
   "outputs": [],
   "source": [
    "'''\n",
    "\n",
    "You can train vit through the code below.\n",
    "\n",
    "If you want to modify epoch, patience, data_augmentation etc, you can do so by adjusting the values within that code.\n",
    "\n",
    "The train results are saved in './saved_model/vit_best_temp.h5'.\n",
    "\n",
    "'''"
   ]
  },
  {
   "cell_type": "code",
   "execution_count": null,
   "id": "afec5b0e-1687-4601-91b7-7c4590491b28",
   "metadata": {},
   "outputs": [],
   "source": [
    "!python vit_train.py"
   ]
  },
  {
   "cell_type": "code",
   "execution_count": null,
   "id": "8b9aff9a-9487-4ce8-8e9b-6a342ad45a68",
   "metadata": {},
   "outputs": [],
   "source": [
    "'''\n",
    "\n",
    "You can train EfficientNet through the code below.\n",
    "\n",
    "If you want to modify epoch, patience, data_augmentation etc, you can do so by adjusting the values within that code.\n",
    "\n",
    "The train results are saved in './saved_model/effnet_best_temp.h5'.\n",
    "\n",
    "'''"
   ]
  },
  {
   "cell_type": "code",
   "execution_count": null,
   "id": "4a75185d-920c-4047-b6d7-20a210c584d4",
   "metadata": {},
   "outputs": [],
   "source": [
    "!python effnet_train.py"
   ]
  },
  {
   "cell_type": "code",
   "execution_count": null,
   "id": "993f1366-9201-4b80-b67a-8cdd2e1c7c6f",
   "metadata": {},
   "outputs": [],
   "source": [
    "'''\n",
    "\n",
    "If the trained model is saved through training, the file is saved in './saved_model/', and '_temp' is added to the name after each.\n",
    "\n",
    "This is to prevent the existing pretrained data from being overwritten. If you want to use an actual trained model,\n",
    "\n",
    "You can change each model name to\n",
    "\n",
    "'effnet_best.h5'\n",
    "'vit_best.h5'\n",
    ".\n",
    "\n",
    "The currently existing 'effnet_best.h5' and 'vit_best.h5' are trained models created by the creator.\n",
    "\n",
    "'''"
   ]
  }
 ],
 "metadata": {
  "kernelspec": {
   "display_name": "Python 3",
   "language": "python",
   "name": "python3"
  },
  "language_info": {
   "codemirror_mode": {
    "name": "ipython",
    "version": 3
   },
   "file_extension": ".py",
   "mimetype": "text/x-python",
   "name": "python",
   "nbconvert_exporter": "python",
   "pygments_lexer": "ipython3",
   "version": "3.6.8"
  }
 },
 "nbformat": 4,
 "nbformat_minor": 5
}
